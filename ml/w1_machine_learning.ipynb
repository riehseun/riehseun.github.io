{
 "cells": [
  {
   "cell_type": "markdown",
   "metadata": {},
   "source": [
    "Supervised Leanring : we are given a data set, already know what our correct outputs are. Ex. Regression and Classification\n",
    "Regression : continuous output. Map input to continuous function\n",
    "Classification : discrete output. Map input to discrete categories\n",
    "\n",
    "Unsupervised learning : we have little or no idea what our correct outputs are. We derive structure from data\n",
    "\n",
    "Reinforcement learning : TBD \n",
    "\n",
    "Recommender system : TBD\n",
    "\n",
    "$e^{i\\pi} + 1 = 0$\n",
    "\n",
    "$$e^x=\\sum_{i=0}^\\infty \\frac{1}{i!}x^i$$\n"
   ]
  },
  {
   "cell_type": "code",
   "execution_count": null,
   "metadata": {},
   "outputs": [],
   "source": []
  }
 ],
 "metadata": {
  "kernelspec": {
   "display_name": "Python 3",
   "language": "python",
   "name": "python3"
  },
  "language_info": {
   "codemirror_mode": {
    "name": "ipython",
    "version": 3
   },
   "file_extension": ".py",
   "mimetype": "text/x-python",
   "name": "python",
   "nbconvert_exporter": "python",
   "pygments_lexer": "ipython3",
   "version": "3.7.4"
  }
 },
 "nbformat": 4,
 "nbformat_minor": 2
}
