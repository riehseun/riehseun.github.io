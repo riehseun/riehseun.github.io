{
 "cells": [
  {
   "cell_type": "markdown",
   "metadata": {},
   "source": [
    "Supervised Leanring : we are given a data set, already know what our correct outputs are. Ex. Regression and Classification<br/>\n",
    "Regression : continuous output. Map input to continuous function<br/>\n",
    "Classification : discrete output. Map input to discrete categories<br/><br/>\n",
    "Unsupervised learning : we have little or no idea what our correct outputs are. We derive structure from data<br/><br/>\n",
    "Reinforcement learning : TBD<br/><br/>\n",
    "Recommender system : TBD<br/><br/>\n",
    "Regression<br/>\n",
    "$m$ = number of training examples<br/>\n",
    "$x$ = inputs<br/>\n",
    "$y$ = outputs<br/>\n",
    "$h$ = hypothesis<br/>\n",
    "$\\theta$ = parameter<br/>\n",
    "\n",
    "\n",
    "Hypothesis : $h_\\theta(x) = \\theta_0 + \\theta_1 x$<br/><br/>\n",
    "Paramaters : $\\theta_0, \\theta_1$<br/><br/>\n",
    "Cost : $J(\\theta_0, \\theta_1) =  \\dfrac{1}{2m}\\sum_{i=1}^{m} (h_\\theta(x^{(i)})-y^{(i)})^2$<br/><br/>\n",
    "Objective : Min $J(\\theta_0, \\theta_1)$<br/><br/> \n",
    "\n",
    "Gradient descent<br/>\n",
    "Start with some $\\theta_0, \\theta_1$<br/>\n",
    "Keep changing $\\theta_0, \\theta_1$ to reduce $J(\\theta_0, \\theta_1)$ until reaching minimum<br/>\n",
    "\n",
    "Repeat until convergence (Simultaneous update all j)<br/><br/>\n",
    "$\\theta_j := \\theta_j - \\alpha\\frac{\\partial}{\\partial \\theta_j}J(\\theta_0, \\theta_1)$<br/>\n",
    "\n",
    "Small $\\alpha$ ? slow<br/>\n",
    "Large $\\alpha$ ? may diverge<br/>\n",
    "No need to decrease $\\alpha$ since gradient descent will automatically take smaller steps as it reaches towards optimum<br/> \n",
    "\n",
    "\n"
   ]
  },
  {
   "cell_type": "markdown",
   "metadata": {},
   "source": [
    "Multiple variable<br/><br/>\n",
    "\n",
    "Hypothesis : $h_\\theta(x) = \\theta^Tx$<br/><br/>\n",
    "Paramaters : $\\theta$<br/><br/>\n",
    "Cost : $J(\\theta) =  \\dfrac{1}{2m}\\sum_{i=1}^{m} (h_\\theta(x^{(i)})-y^{(i)})^2$<br/><br/>\n",
    "Objective : Min $J(\\theta)$<br/><br/> \n",
    "\n",
    "Repeat until convergence (Simultaneous update all j)<br/><br/>\n",
    "$\\theta_j := \\theta_j - \\alpha\\frac{\\partial}{\\partial \\theta_j}J(\\theta)$<br/>\n",
    "\n",
    "Feature Scaling<br/>\n",
    "Make sure feature scales are between -1 and +1\n"
   ]
  },
  {
   "cell_type": "code",
   "execution_count": null,
   "metadata": {},
   "outputs": [],
   "source": []
  }
 ],
 "metadata": {
  "kernelspec": {
   "display_name": "Python 3",
   "language": "python",
   "name": "python3"
  },
  "language_info": {
   "codemirror_mode": {
    "name": "ipython",
    "version": 3
   },
   "file_extension": ".py",
   "mimetype": "text/x-python",
   "name": "python",
   "nbconvert_exporter": "python",
   "pygments_lexer": "ipython3",
   "version": "3.7.4"
  }
 },
 "nbformat": 4,
 "nbformat_minor": 2
}
