{
 "cells": [
  {
   "cell_type": "markdown",
   "metadata": {},
   "source": [
    "# Conservation\n",
    "\n",
    "- Momentum $P = mv$.\n",
    "- Kinetic energy $E = \\dfrac{1}{2}mv^{2}$.\n",
    "- Elastic collision: both mometum and kinetic energy are conserved.\n",
    "- Inelastic collision: mometum is conversed but kinetic energy is not. (but total energy is still conserved)\n",
    "- Electric charge is conserved.\n",
    "\n",
    "## Q&A\n",
    "\n",
    "- Mass is not conversed in real world. ($E_{rest} = mc^{2}$)\n",
    "    - In nuclear reactions, neutrons decay to protons and elections whose combined mass is less than the original protons. (that missing mass is converted to kinetic energy) \n",
    "- Kinetic energy is accumulation of momentum as velocity changes. (kinetic energy is integral of momentum)\n",
    "- Noether's theorem.\n",
    "    - Each symmetry in the universe gives rise to a conservation law.\n",
    "        - Time invariance (laws of physics do not change with time) -> Energy conservation.\n",
    "        - Space invariance (laws of physics do not change with space) -> Momemtum conservation."
   ]
  },
  {
   "cell_type": "markdown",
   "metadata": {},
   "source": [
    "# Change\n",
    "\n",
    "Kepler\n",
    "- 1) Planets move in ellipses.\n",
    "- 2) Equal areas are swepted out in equal time.\n",
    "- 3) Period-squared is proportional to axied-cubed.\n",
    "\n",
    "Newton\n",
    "- 1) $F = G\\dfrac{Mn}{r^{2}}$\n",
    "- 2) $F = ma$\n",
    "\n",
    "Paradiam: there exists \"state\" of an object, at one instance of time. From that, everything follows.\n",
    "\n",
    "Number of numbers b/t $0$ and $1$ equals to number of numbers b/t $\\infty$ and $-\\infty$.\n",
    "\n",
    "## Q&A\n",
    "\n",
    "- $x = \\int vdt$"
   ]
  },
  {
   "cell_type": "code",
   "execution_count": null,
   "metadata": {},
   "outputs": [],
   "source": []
  }
 ],
 "metadata": {
  "kernelspec": {
   "display_name": "Python 3",
   "language": "python",
   "name": "python3"
  },
  "language_info": {
   "codemirror_mode": {
    "name": "ipython",
    "version": 3
   },
   "file_extension": ".py",
   "mimetype": "text/x-python",
   "name": "python",
   "nbconvert_exporter": "python",
   "pygments_lexer": "ipython3",
   "version": "3.7.4"
  }
 },
 "nbformat": 4,
 "nbformat_minor": 2
}
