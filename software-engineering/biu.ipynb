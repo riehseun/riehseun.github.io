{
 "cells": [
  {
   "cell_type": "markdown",
   "metadata": {},
   "source": [
    "# Conservation\n",
    "\n",
    "- momentum $P = mv$\n",
    "- kinetic energy $E = \\dfrac{1}{2}mv^{2}$\n",
    "- elastic collision: both mometum and kinetic energy are conserved\n",
    "- inelastic collision: mometum is conversed but kinetic energy is not (but total energy is still conserved)\n",
    "- electric charge is conserved \n",
    "\n",
    "## Q&A\n",
    "\n",
    "- mass is not conversed in real world ($E_{rest} = mc^{2}$)\n",
    "    - in nuclear reactions, neutrons decay to protons and elections whose combined mass is less than the original protons (that missing mass is converted to kinetic energy) \n",
    "- kinetic energy is accumulation of momentum as velocity changes (kinetic energy is integral of momentum)\n",
    "- Noether's theorem\n",
    "    - each symmetry in the universe gives rise to a conservation law\n",
    "        - time invariance (laws of physics do not change with time) -> Energy conservation\n",
    "        - space invariance (laws of physics do not change with space) -> Momemtum conservation"
   ]
  },
  {
   "cell_type": "markdown",
   "metadata": {},
   "source": [
    "# Change\n",
    "\n",
    "Kepler\n",
    "- 1) planets move in ellipses\n",
    "- 2) equal areas are swepted out in equal time\n",
    "- 3) period-squared is proportional to axied-cubed\n",
    "\n",
    "Newton\n",
    "- 1) $F = G\\dfrac{Mn}{r^{2}}$\n",
    "- 2) $F = ma$\n",
    "\n",
    "Paradiam: there exists \"state\" of an object, at one instance of time. From that, everything follows\n",
    "\n",
    "number of numbers b/t $0$ and $1$ equals to number of numbers b/t $\\infty$ and $-\\infty$\n",
    "\n",
    "## Q&A\n",
    "\n"
   ]
  },
  {
   "cell_type": "code",
   "execution_count": null,
   "metadata": {},
   "outputs": [],
   "source": []
  }
 ],
 "metadata": {
  "kernelspec": {
   "display_name": "Python 3",
   "language": "python",
   "name": "python3"
  },
  "language_info": {
   "codemirror_mode": {
    "name": "ipython",
    "version": 3
   },
   "file_extension": ".py",
   "mimetype": "text/x-python",
   "name": "python",
   "nbconvert_exporter": "python",
   "pygments_lexer": "ipython3",
   "version": "3.7.4"
  }
 },
 "nbformat": 4,
 "nbformat_minor": 2
}
