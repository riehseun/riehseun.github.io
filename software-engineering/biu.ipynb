{
 "cells": [
  {
   "cell_type": "markdown",
   "metadata": {},
   "source": [
    "# Conservation\n",
    "\n",
    "- Momentum $P = mv$.\n",
    "- Kinetic energy $E = \\dfrac{1}{2}mv^{2}$.\n",
    "- Elastic collision: both mometum and kinetic energy are conserved.\n",
    "- Inelastic collision: mometum is conversed but kinetic energy is not. (but total energy is still conserved)\n",
    "- Electric charge is conserved.\n",
    "\n",
    "## Q&A\n",
    "\n",
    "- Mass is not conversed in real world. ($E_{rest} = mc^{2}$)\n",
    "    - In nuclear reactions, neutrons decay to protons and elections whose combined mass is less than the original protons. (that missing mass is converted to kinetic energy) \n",
    "- Kinetic energy is accumulation of momentum as velocity changes. (kinetic energy is integral of momentum)\n",
    "- Noether's theorem.\n",
    "    - Each symmetry in the universe gives rise to a conservation law.\n",
    "        - Time invariance (laws of physics do not change with time) -> Energy conservation.\n",
    "        - Space invariance (laws of physics do not change with space) -> Momemtum conservation."
   ]
  },
  {
   "cell_type": "markdown",
   "metadata": {},
   "source": [
    "# Change\n",
    "\n",
    "Kepler\n",
    "- 1) Planets move in ellipses.\n",
    "- 2) Equal areas are swepted out in equal time.\n",
    "- 3) Period-squared is proportional to axied-cubed.\n",
    "\n",
    "Newton\n",
    "- 1) $F = G\\dfrac{Mn}{r^{2}}$\n",
    "- 2) $F = ma$\n",
    "\n",
    "Paradiam: there exists \"state\" of an object, at one instance of time. From that, everything follows.\n",
    "\n",
    "Number of numbers b/t $0$ and $1$ equals to number of numbers b/t $\\infty$ and $-\\infty$.\n",
    "\n",
    "## Q&A\n",
    "\n",
    "- $x = \\int vdt$"
   ]
  },
  {
   "cell_type": "markdown",
   "metadata": {},
   "source": [
    "# Force, Energy, Action\n",
    "\n",
    "Newtonian / Laplacian paradiam\n",
    "- Phase space (all position and momentum of all particles in universe) $\\{x,p\\}$\n",
    "- Calculate $F(\\{x,p\\})$\n",
    "- Change in $x$: velocity $v = \\dfrac{p}{m}$\n",
    "- Change in $v$: accleration $a = \\dfrac{F}{m}$\n",
    "- Change forward in time.\n",
    "\n",
    "Why position & momentum?\n",
    "- velocity = derivative of $x$\n",
    "- acceleration = derivative of $v$\n",
    "- jerk = derivative of $a$\n",
    "- snap = derivative of $j$\n",
    "- crackle = derivative of $s$\n",
    "- pop = derivative of $c$\n",
    "\n",
    "Consider a ball rolling down a hill.\n",
    "- Kinetic energy $E = \\dfrac{1}{2}mv^{2}$\n",
    "- Potential energy $V(x) = mgh(x)$\n",
    "- Total energy $\\dfrac{1}{2}mv^{2} + mgh(x)$\n",
    "- Force = slope of potential $ = -\\dfrac{dV}{dx}$\n",
    "\n",
    "The principle of least action\n",
    "- Action = Total(Kinetic - Potential) = $\\int (K-V)dt$\n",
    "- $(K-V)$ a.k.a \"Lagrangian\" will be as small as possible"
   ]
  },
  {
   "cell_type": "code",
   "execution_count": null,
   "metadata": {},
   "outputs": [],
   "source": []
  }
 ],
 "metadata": {
  "kernelspec": {
   "display_name": "Python 3",
   "language": "python",
   "name": "python3"
  },
  "language_info": {
   "codemirror_mode": {
    "name": "ipython",
    "version": 3
   },
   "file_extension": ".py",
   "mimetype": "text/x-python",
   "name": "python",
   "nbconvert_exporter": "python",
   "pygments_lexer": "ipython3",
   "version": "3.7.4"
  }
 },
 "nbformat": 4,
 "nbformat_minor": 2
}
