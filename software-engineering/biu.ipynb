{
 "cells": [
  {
   "cell_type": "markdown",
   "metadata": {},
   "source": [
    "# Conservation\n",
    "\n",
    "- momentum $P = mv$\n",
    "- kinetic energy $E = \\dfrac{1}{2}mv^{2}$\n",
    "- elastic collision: both mometum and kinetic energy are conserved\n",
    "- inelastic collision: mometum is conversed but kinetic energy is not (but totla energy is still conserved)\n",
    "- electric charge is conserved "
   ]
  },
  {
   "cell_type": "code",
   "execution_count": null,
   "metadata": {},
   "outputs": [],
   "source": []
  }
 ],
 "metadata": {
  "kernelspec": {
   "display_name": "Python 3",
   "language": "python",
   "name": "python3"
  },
  "language_info": {
   "codemirror_mode": {
    "name": "ipython",
    "version": 3
   },
   "file_extension": ".py",
   "mimetype": "text/x-python",
   "name": "python",
   "nbconvert_exporter": "python",
   "pygments_lexer": "ipython3",
   "version": "3.7.4"
  }
 },
 "nbformat": 4,
 "nbformat_minor": 2
}
